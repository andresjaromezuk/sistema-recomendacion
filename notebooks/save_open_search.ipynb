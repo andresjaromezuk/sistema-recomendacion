{
 "cells": [
  {
   "cell_type": "code",
   "execution_count": 11,
   "metadata": {},
   "outputs": [],
   "source": [
    "import numpy as np\n",
    "import pandas as pd\n",
    "from datetime import datetime"
   ]
  },
  {
   "cell_type": "code",
   "execution_count": 12,
   "metadata": {},
   "outputs": [],
   "source": [
    "movie_embeddings_matrix = np.load('../data/vector_db/movie_embeddings_matrix.npy')\n",
    "user_embeddings_matrix = np.load('../data/vector_db/user_embeddings_matrix.npy')\n",
    "user2Idx = np.load('../data/vector_db/user2Idx.npy', allow_pickle=True).item()\n",
    "movie2Idx = np.load('../data/vector_db/movie2Idx.npy', allow_pickle=True).item()"
   ]
  },
  {
   "cell_type": "code",
   "execution_count": 13,
   "metadata": {},
   "outputs": [
    {
     "data": {
      "text/plain": [
       "id                         1896\n",
       "user_id                     196\n",
       "movie_id                    655\n",
       "rating                        5\n",
       "Date        1997-12-04 16:09:53\n",
       "Name: 1896, dtype: object"
      ]
     },
     "execution_count": 13,
     "metadata": {},
     "output_type": "execute_result"
    }
   ],
   "source": [
    "df_users = pd.read_csv('../data/usuarios.csv')\n",
    "df_movies = pd.read_csv('../data/peliculas.csv')\n",
    "ratings = pd.read_csv('../data/scores.csv')\n",
    "df_movies.loc[df_movies['IMDB URL'].isna(), 'IMDB URL'] = ''\n",
    "\n",
    "user_movies = ratings[ratings['user_id'] == 196]\n",
    "user_movies = user_movies.loc[user_movies['rating'].idxmax()]\n",
    "user_movies"
   ]
  },
  {
   "cell_type": "code",
   "execution_count": 14,
   "metadata": {},
   "outputs": [],
   "source": [
    "df_users['userIdx'] = df_users['id'].apply(lambda x: user2Idx[x])\n",
    "df_movies['movieIdx'] = df_movies['id'].apply(lambda x: movie2Idx[x])"
   ]
  },
  {
   "cell_type": "code",
   "execution_count": 15,
   "metadata": {},
   "outputs": [
    {
     "data": {
      "text/plain": [
       "{'cluster_name': 'docker-cluster',\n",
       " 'status': 'yellow',\n",
       " 'timed_out': False,\n",
       " 'number_of_nodes': 1,\n",
       " 'number_of_data_nodes': 1,\n",
       " 'discovered_master': True,\n",
       " 'discovered_cluster_manager': True,\n",
       " 'active_primary_shards': 14,\n",
       " 'active_shards': 14,\n",
       " 'relocating_shards': 0,\n",
       " 'initializing_shards': 0,\n",
       " 'unassigned_shards': 10,\n",
       " 'delayed_unassigned_shards': 0,\n",
       " 'number_of_pending_tasks': 0,\n",
       " 'number_of_in_flight_fetch': 0,\n",
       " 'task_max_waiting_in_queue_millis': 0,\n",
       " 'active_shards_percent_as_number': 58.333333333333336}"
      ]
     },
     "execution_count": 15,
     "metadata": {},
     "output_type": "execute_result"
    }
   ],
   "source": [
    "import sys\n",
    "import os\n",
    "notebook_dir = os.path.dirname(os.path.abspath('recommendation_system.ipynb'))\n",
    "project_root = os.path.abspath(os.path.join(notebook_dir, '..'))\n",
    "sys.path.append(project_root)\n",
    "\n",
    "#from config.config import client\n",
    "from src.services.database.models import MovieV, UserV\n",
    "from src.services.database.vector_db_service import VectorDbService\n",
    "vdbs = VectorDbService()\n",
    "client = vdbs.client\n",
    "client.cluster.health()"
   ]
  },
  {
   "cell_type": "code",
   "execution_count": 18,
   "metadata": {},
   "outputs": [
    {
     "name": "stdout",
     "output_type": "stream",
     "text": [
      "Índice inicializado correctamente.\n"
     ]
    }
   ],
   "source": [
    "try:\n",
    "    #client.indices.delete('movie')\n",
    "    MovieV.init(using=client)\n",
    "    print(\"Índice inicializado correctamente.\")\n",
    "except Exception as e:\n",
    "    print(f\"Error al inicializar el índice: {e}\")"
   ]
  },
  {
   "cell_type": "code",
   "execution_count": 23,
   "metadata": {},
   "outputs": [
    {
     "name": "stdout",
     "output_type": "stream",
     "text": [
      "Índice inicializado correctamente.\n"
     ]
    }
   ],
   "source": [
    "try:\n",
    "    #client.indices.delete('user')\n",
    "    UserV.init(using=client)\n",
    "    print(\"Índice inicializado correctamente.\")\n",
    "except Exception as e:\n",
    "    print(f\"Error al inicializar el índice: {e}\")"
   ]
  },
  {
   "cell_type": "code",
   "execution_count": 19,
   "metadata": {},
   "outputs": [],
   "source": [
    "for i, row in df_movies.iterrows():\n",
    "    try:\n",
    "\n",
    "        mv = MovieV(\n",
    "            movie_id = row.id,\n",
    "            url = row['IMDB URL'],\n",
    "            name = row['Name'],\n",
    "            vector = list(movie_embeddings_matrix[row.movieIdx]),\n",
    "            created_at = datetime.now()\n",
    "        )\n",
    "        mv.save(using=client)\n",
    "        #Movie.search(using=client).count()\n",
    "        #mv.save(using=client)\n",
    "    except Exception as e:\n",
    "        print(f\"Error al guardar la película {row['Name']}: {e}\")"
   ]
  },
  {
   "cell_type": "code",
   "execution_count": 24,
   "metadata": {},
   "outputs": [],
   "source": [
    "for i, row in df_users.iterrows():\n",
    "    try:\n",
    "\n",
    "        uv = UserV(\n",
    "            user_id = row.id,\n",
    "            occupation = row['Occupation'],\n",
    "            created_at = datetime.now(),\n",
    "            active_since = row['Active Since'],\n",
    "            vector = list(user_embeddings_matrix[row.userIdx])\n",
    "        )\n",
    "        uv.save(using=client)\n",
    "    except Exception as e:\n",
    "        print(f\"Error al guardar el usuario {row.id}: {e}\")"
   ]
  },
  {
   "cell_type": "code",
   "execution_count": 20,
   "metadata": {},
   "outputs": [
    {
     "data": {
      "text/plain": [
       "1682"
      ]
     },
     "execution_count": 20,
     "metadata": {},
     "output_type": "execute_result"
    }
   ],
   "source": [
    "MovieV.search(using=client).count()"
   ]
  },
  {
   "cell_type": "code",
   "execution_count": 25,
   "metadata": {},
   "outputs": [
    {
     "data": {
      "text/plain": [
       "943"
      ]
     },
     "execution_count": 25,
     "metadata": {},
     "output_type": "execute_result"
    }
   ],
   "source": [
    "UserV.search(using=client).count()"
   ]
  },
  {
   "cell_type": "code",
   "execution_count": 21,
   "metadata": {},
   "outputs": [
    {
     "name": "stdout",
     "output_type": "stream",
     "text": [
      "{'_index': 'movie', '_id': '346', '_score': 1.0, '_source': {'movie_id': 346, 'url': 'http://us.imdb.com/M/title-exact?imdb-title-119396', 'name': 'Jackie Brown (1997)', 'vector': [0.0675366222858429, 0.09568929672241211, 0.22328245639801025], 'created_at': '2024-10-06T11:10:30.838250'}}\n",
      "{'_index': 'movie', '_id': '987', '_score': 0.99915195, '_source': {'movie_id': 987, 'url': 'http://us.imdb.com/M/title-exact?Underworld%20(1997)', 'name': 'Underworld (1997)', 'vector': [0.000920130405575037, 0.0010935215977951884, 0.0028165383264422417], 'created_at': '2024-10-06T11:10:34.038812'}}\n",
      "{'_index': 'movie', '_id': '285', '_score': 0.9991291, '_source': {'movie_id': 285, 'url': 'http://us.imdb.com/M/title-exact?Secrets%20&%20Lies%20(1996)', 'name': 'Secrets & Lies (1996)', 'vector': [0.06075748801231384, 0.08659423142671585, 0.22390972077846527], 'created_at': '2024-10-06T11:10:30.514241'}}\n",
      "{'_index': 'movie', '_id': '1411', '_score': 0.99898773, '_source': {'movie_id': 1411, 'url': 'http://us.imdb.com/M/title-exact?Barbarella%20(1968)', 'name': 'Barbarella (1968)', 'vector': [0.03163045272231102, 0.04763099178671837, 0.1214885413646698], 'created_at': '2024-10-06T11:10:35.958884'}}\n",
      "{'_index': 'movie', '_id': '461', '_score': 0.99880326, '_source': {'movie_id': 461, 'url': 'http://us.imdb.com/M/title-exact?Smoke%20(1995)', 'name': 'Smoke (1995)', 'vector': [0.03221340849995613, 0.04224846884608269, 0.0909496545791626], 'created_at': '2024-10-06T11:10:31.424640'}}\n"
     ]
    }
   ],
   "source": [
    "movie_idx_to_search = 5\n",
    "\n",
    "df_movies[df_movies['movieIdx'] == movie_idx_to_search]\n",
    "# %%\n",
    "movie_embeddings_matrix[movie_idx_to_search]\n",
    "\n",
    "query = {\n",
    "    \"size\": 5,\n",
    "    \"query\": {\n",
    "        \"knn\": {\n",
    "        \"vector\": {\n",
    "            \"vector\": movie_embeddings_matrix[movie_idx_to_search],\n",
    "            \"k\" : 20\n",
    "        }\n",
    "        }\n",
    "    }\n",
    "}\n",
    "\n",
    "response = client.search(index='movie', body=query)\n",
    "\n",
    "for h in response['hits']['hits']:\n",
    "  print(h)"
   ]
  }
 ],
 "metadata": {
  "kernelspec": {
   "display_name": "tp_2",
   "language": "python",
   "name": "python3"
  },
  "language_info": {
   "codemirror_mode": {
    "name": "ipython",
    "version": 3
   },
   "file_extension": ".py",
   "mimetype": "text/x-python",
   "name": "python",
   "nbconvert_exporter": "python",
   "pygments_lexer": "ipython3",
   "version": "3.8.18"
  }
 },
 "nbformat": 4,
 "nbformat_minor": 2
}
