{
 "cells": [
  {
   "cell_type": "code",
   "execution_count": 1,
   "metadata": {},
   "outputs": [],
   "source": [
    "import numpy as np\n",
    "import pandas as pd\n",
    "from datetime import datetime"
   ]
  },
  {
   "cell_type": "code",
   "execution_count": 2,
   "metadata": {},
   "outputs": [],
   "source": [
    "movie_embeddings_matrix = np.load('../data/vector_db/movie_embeddings_matrix.npy')\n",
    "user_embeddings_matrix = np.load('../data/vector_db/user_embeddings_matrix.npy')\n",
    "user2Idx = np.load('../data/vector_db/user2Idx.npy', allow_pickle=True).item()\n",
    "movie2Idx = np.load('../data/vector_db/movie2Idx.npy', allow_pickle=True).item()"
   ]
  },
  {
   "cell_type": "code",
   "execution_count": 4,
   "metadata": {},
   "outputs": [
    {
     "data": {
      "text/plain": [
       "id                         1896\n",
       "user_id                     196\n",
       "movie_id                    655\n",
       "rating                        5\n",
       "Date        1997-12-04 16:09:53\n",
       "Name: 1896, dtype: object"
      ]
     },
     "execution_count": 4,
     "metadata": {},
     "output_type": "execute_result"
    }
   ],
   "source": [
    "ratings = pd.read_csv('../data/scores.csv')\n",
    "df_users = pd.read_csv('../data/usuarios.csv')\n",
    "df_movies = pd.read_csv('../data/peliculas.csv')\n",
    "df_movies.loc[df_movies['IMDB URL'].isna(), 'IMDB URL'] = ''\n",
    "\n",
    "user_movies = ratings[ratings['user_id'] == 196]\n",
    "user_movies = user_movies.loc[user_movies['rating'].idxmax()]\n",
    "user_movies"
   ]
  },
  {
   "cell_type": "code",
   "execution_count": 5,
   "metadata": {},
   "outputs": [],
   "source": [
    "df_users['userIdx'] = df_users['id'].apply(lambda x: user2Idx[x])\n",
    "df_movies['movieIdx'] = df_movies['id'].apply(lambda x: movie2Idx[x])\n"
   ]
  },
  {
   "cell_type": "code",
   "execution_count": 7,
   "metadata": {},
   "outputs": [
    {
     "data": {
      "text/plain": [
       "{'cluster_name': 'docker-cluster',\n",
       " 'status': 'yellow',\n",
       " 'timed_out': False,\n",
       " 'number_of_nodes': 1,\n",
       " 'number_of_data_nodes': 1,\n",
       " 'discovered_master': True,\n",
       " 'discovered_cluster_manager': True,\n",
       " 'active_primary_shards': 10,\n",
       " 'active_shards': 10,\n",
       " 'relocating_shards': 0,\n",
       " 'initializing_shards': 0,\n",
       " 'unassigned_shards': 6,\n",
       " 'delayed_unassigned_shards': 0,\n",
       " 'number_of_pending_tasks': 0,\n",
       " 'number_of_in_flight_fetch': 0,\n",
       " 'task_max_waiting_in_queue_millis': 0,\n",
       " 'active_shards_percent_as_number': 62.5}"
      ]
     },
     "execution_count": 7,
     "metadata": {},
     "output_type": "execute_result"
    }
   ],
   "source": [
    "import sys\n",
    "import os\n",
    "notebook_dir = os.path.dirname(os.path.abspath('recommendation_system.ipynb'))\n",
    "project_root = os.path.abspath(os.path.join(notebook_dir, '..'))\n",
    "sys.path.append(project_root)\n",
    "\n",
    "#from config.config import client\n",
    "from src.services.database.models import MovieV, UserV\n",
    "from src.services.database.vector_db_service import VectorDbService\n",
    "vdbs = VectorDbService()\n",
    "client = vdbs.client\n",
    "client.cluster.health()"
   ]
  },
  {
   "cell_type": "code",
   "execution_count": 9,
   "metadata": {},
   "outputs": [
    {
     "name": "stdout",
     "output_type": "stream",
     "text": [
      "Índice inicializado correctamente.\n"
     ]
    }
   ],
   "source": [
    "try:\n",
    "    #client.indices.delete('movie')\n",
    "    MovieV.init(using=client)\n",
    "    print(\"Índice inicializado correctamente.\")\n",
    "except Exception as e:\n",
    "    print(f\"Error al inicializar el índice: {e}\")"
   ]
  },
  {
   "cell_type": "code",
   "execution_count": 11,
   "metadata": {},
   "outputs": [
    {
     "name": "stdout",
     "output_type": "stream",
     "text": [
      "Índice inicializado correctamente.\n"
     ]
    }
   ],
   "source": [
    "try:\n",
    "    #client.indices.delete('user')\n",
    "    UserV.init(using=client)\n",
    "    print(\"Índice inicializado correctamente.\")\n",
    "except Exception as e:\n",
    "    print(f\"Error al inicializar el índice: {e}\")"
   ]
  },
  {
   "cell_type": "code",
   "execution_count": 12,
   "metadata": {},
   "outputs": [],
   "source": [
    "for i, row in df_movies.iterrows():\n",
    "    try:\n",
    "\n",
    "        mv = MovieV(\n",
    "            movie_id = row.id,\n",
    "            url = row['IMDB URL'],\n",
    "            name = row['Name'],\n",
    "            vector = list(movie_embeddings_matrix[row.movieIdx]),\n",
    "            created_at = datetime.now()\n",
    "        )\n",
    "        mv.save(using=client)\n",
    "        #Movie.search(using=client).count()\n",
    "        #mv.save(using=client)\n",
    "    except Exception as e:\n",
    "        print(f\"Error al guardar la película {row['Name']}: {e}\")"
   ]
  },
  {
   "cell_type": "code",
   "execution_count": 13,
   "metadata": {},
   "outputs": [],
   "source": [
    "for i, row in df_users.iterrows():\n",
    "    try:\n",
    "\n",
    "        uv = UserV(\n",
    "            user_id = row.id,\n",
    "            occupation = row['Occupation'],\n",
    "            created_at = datetime.now(),\n",
    "            active_since = row['Active Since'],\n",
    "            vector = list(user_embeddings_matrix[row.userIdx])\n",
    "        )\n",
    "        uv.save(using=client)\n",
    "    except Exception as e:\n",
    "        print(f\"Error al guardar el usuario {row.id}: {e}\")"
   ]
  },
  {
   "cell_type": "code",
   "execution_count": 14,
   "metadata": {},
   "outputs": [
    {
     "data": {
      "text/plain": [
       "1682"
      ]
     },
     "execution_count": 14,
     "metadata": {},
     "output_type": "execute_result"
    }
   ],
   "source": [
    "MovieV.search(using=client).count()"
   ]
  },
  {
   "cell_type": "code",
   "execution_count": 15,
   "metadata": {},
   "outputs": [
    {
     "data": {
      "text/plain": [
       "943"
      ]
     },
     "execution_count": 15,
     "metadata": {},
     "output_type": "execute_result"
    }
   ],
   "source": [
    "UserV.search(using=client).count()"
   ]
  },
  {
   "cell_type": "code",
   "execution_count": 16,
   "metadata": {},
   "outputs": [
    {
     "data": {
      "text/plain": [
       "array([-0.01547333,  0.1139739 , -0.06937604, -0.06899811,  0.03958286],\n",
       "      dtype=float32)"
      ]
     },
     "execution_count": 16,
     "metadata": {},
     "output_type": "execute_result"
    }
   ],
   "source": [
    "movie_idx_to_search = 5\n",
    "\n",
    "df_movies[df_movies['movieIdx'] == movie_idx_to_search]\n",
    "# %%\n",
    "movie_embeddings_matrix[movie_idx_to_search]"
   ]
  },
  {
   "cell_type": "code",
   "execution_count": 17,
   "metadata": {},
   "outputs": [
    {
     "data": {
      "text/plain": [
       "array([-0.22776741, -0.02918367,  0.01204615, -0.00425285,  0.0612423 ],\n",
       "      dtype=float32)"
      ]
     },
     "execution_count": 17,
     "metadata": {},
     "output_type": "execute_result"
    }
   ],
   "source": [
    "user_idx_to_search = 5\n",
    "\n",
    "df_users[df_users['userIdx'] == user_idx_to_search]\n",
    "# %%\n",
    "user_embeddings_matrix[user_idx_to_search]"
   ]
  },
  {
   "cell_type": "code",
   "execution_count": 18,
   "metadata": {},
   "outputs": [
    {
     "name": "stdout",
     "output_type": "stream",
     "text": [
      "<class 'numpy.ndarray'>\n",
      "{'_index': 'movie', '_id': '346', '_score': 0.99999976, '_source': {'movie_id': 346, 'url': 'http://us.imdb.com/M/title-exact?imdb-title-119396', 'name': 'Jackie Brown (1997)', 'vector': [-0.015473331324756145, 0.11397390067577362, -0.06937604397535324, -0.06899810582399368, 0.03958285599946976], 'created_at': '2024-11-28T14:15:45.992197'}}\n",
      "{'_index': 'movie', '_id': '276', '_score': 0.99130285, '_source': {'movie_id': 276, 'url': 'http://us.imdb.com/M/title-exact?Leaving%20Las%20Vegas%20(1995)', 'name': 'Leaving Las Vegas (1995)', 'vector': [-0.0052984063513576984, 0.09505090117454529, -0.04360811784863472, -0.05844560265541077, 0.024079328402876854], 'created_at': '2024-11-28T14:15:45.256478'}}\n",
      "{'_index': 'movie', '_id': '475', '_score': 0.99048996, '_source': {'movie_id': 475, 'url': 'http://us.imdb.com/Title?Trainspotting+(1996)', 'name': 'Trainspotting (1996)', 'vector': [-0.01807694137096405, 0.1501435935497284, -0.069170281291008, -0.0681825578212738, 0.05691197142004967], 'created_at': '2024-11-28T14:15:46.665480'}}\n",
      "{'_index': 'movie', '_id': '175', '_score': 0.98977965, '_source': {'movie_id': 175, 'url': 'http://us.imdb.com/M/title-exact?Brazil%20(1985)', 'name': 'Brazil (1985)', 'vector': [0.005864700302481651, 0.11679797619581223, -0.0796428769826889, -0.0699772983789444, 0.04380436986684799], 'created_at': '2024-11-28T14:15:44.521707'}}\n",
      "{'_index': 'movie', '_id': '55', '_score': 0.98971516, '_source': {'movie_id': 55, 'url': 'http://us.imdb.com/Title?L%E9on+(1994)', 'name': 'Professional, The (1994)', 'vector': [0.0030693397857248783, 0.05734216794371605, -0.03344040364027023, -0.03556310012936592, 0.022716401144862175], 'created_at': '2024-11-28T14:15:43.649499'}}\n"
     ]
    }
   ],
   "source": [
    "movie_idx_to_search = 5\n",
    "\n",
    "df_movies[df_movies['movieIdx'] == movie_idx_to_search]\n",
    "# %%\n",
    "print(type(movie_embeddings_matrix[movie_idx_to_search]))\n",
    "\n",
    "query = {\n",
    "    \"size\": 5,\n",
    "    \"query\": {\n",
    "        \"knn\": {\n",
    "        \"vector\": {\n",
    "            \"vector\": movie_embeddings_matrix[movie_idx_to_search],\n",
    "            \"k\" : 20\n",
    "        }\n",
    "        }\n",
    "    }\n",
    "}\n",
    "\n",
    "response = client.search(index='movie', body=query)\n",
    "\n",
    "for h in response['hits']['hits']:\n",
    "  print(h)"
   ]
  }
 ],
 "metadata": {
  "kernelspec": {
   "display_name": "tp_2",
   "language": "python",
   "name": "python3"
  },
  "language_info": {
   "codemirror_mode": {
    "name": "ipython",
    "version": 3
   },
   "file_extension": ".py",
   "mimetype": "text/x-python",
   "name": "python",
   "nbconvert_exporter": "python",
   "pygments_lexer": "ipython3",
   "version": "3.8.20"
  }
 },
 "nbformat": 4,
 "nbformat_minor": 2
}
