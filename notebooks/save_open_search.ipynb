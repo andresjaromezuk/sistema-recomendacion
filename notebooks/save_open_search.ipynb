{
 "cells": [
  {
   "cell_type": "code",
   "execution_count": 1,
   "metadata": {},
   "outputs": [],
   "source": [
    "import numpy as np\n",
    "import pandas as pd\n",
    "from datetime import datetime"
   ]
  },
  {
   "cell_type": "code",
   "execution_count": 4,
   "metadata": {},
   "outputs": [],
   "source": [
    "movie_embeddings_matrix = np.load('../data/vector_db/movie_embeddings_matrix.npy')\n",
    "user_embeddings_matrix = np.load('../data/vector_db/user_embeddings_matrix.npy')\n",
    "user2Idx = np.load('../data/vector_db/user2Idx.npy', allow_pickle=True).item()\n",
    "movie2Idx = np.load('../data/vector_db/movie2Idx.npy', allow_pickle=True).item()"
   ]
  },
  {
   "cell_type": "code",
   "execution_count": 24,
   "metadata": {},
   "outputs": [
    {
     "data": {
      "text/plain": [
       "id                         1896\n",
       "user_id                     196\n",
       "movie_id                    655\n",
       "rating                        5\n",
       "Date        1997-12-04 16:09:53\n",
       "Name: 1896, dtype: object"
      ]
     },
     "execution_count": 24,
     "metadata": {},
     "output_type": "execute_result"
    }
   ],
   "source": [
    "df_users = pd.read_csv('../data/usuarios.csv')\n",
    "df_movies = pd.read_csv('../data/peliculas.csv')\n",
    "ratings = pd.read_csv('../data/scores.csv')\n",
    "df_movies.loc[df_movies['IMDB URL'].isna(), 'IMDB URL'] = ''\n",
    "\n",
    "user_movies = ratings[ratings['user_id'] == 196]\n",
    "user_movies = user_movies.loc[user_movies['rating'].idxmax()]\n",
    "user_movies"
   ]
  },
  {
   "cell_type": "code",
   "execution_count": 7,
   "metadata": {},
   "outputs": [
    {
     "data": {
      "text/html": [
       "<div>\n",
       "<style scoped>\n",
       "    .dataframe tbody tr th:only-of-type {\n",
       "        vertical-align: middle;\n",
       "    }\n",
       "\n",
       "    .dataframe tbody tr th {\n",
       "        vertical-align: top;\n",
       "    }\n",
       "\n",
       "    .dataframe thead th {\n",
       "        text-align: right;\n",
       "    }\n",
       "</style>\n",
       "<table border=\"1\" class=\"dataframe\">\n",
       "  <thead>\n",
       "    <tr style=\"text-align: right;\">\n",
       "      <th></th>\n",
       "      <th>id</th>\n",
       "      <th>Occupation</th>\n",
       "      <th>Active Since</th>\n",
       "      <th>userIdx</th>\n",
       "    </tr>\n",
       "  </thead>\n",
       "  <tbody>\n",
       "    <tr>\n",
       "      <th>0</th>\n",
       "      <td>1</td>\n",
       "      <td>technician</td>\n",
       "      <td>1997-09-22 21:57:58</td>\n",
       "      <td>119</td>\n",
       "    </tr>\n",
       "    <tr>\n",
       "      <th>1</th>\n",
       "      <td>2</td>\n",
       "      <td>other</td>\n",
       "      <td>1998-02-27 03:26:00</td>\n",
       "      <td>230</td>\n",
       "    </tr>\n",
       "    <tr>\n",
       "      <th>2</th>\n",
       "      <td>3</td>\n",
       "      <td>writer</td>\n",
       "      <td>1998-03-07 02:15:39</td>\n",
       "      <td>270</td>\n",
       "    </tr>\n",
       "    <tr>\n",
       "      <th>3</th>\n",
       "      <td>4</td>\n",
       "      <td>technician</td>\n",
       "      <td>1998-04-08 02:09:34</td>\n",
       "      <td>268</td>\n",
       "    </tr>\n",
       "    <tr>\n",
       "      <th>4</th>\n",
       "      <td>5</td>\n",
       "      <td>other</td>\n",
       "      <td>1997-09-30 15:57:44</td>\n",
       "      <td>112</td>\n",
       "    </tr>\n",
       "    <tr>\n",
       "      <th>...</th>\n",
       "      <td>...</td>\n",
       "      <td>...</td>\n",
       "      <td>...</td>\n",
       "      <td>...</td>\n",
       "    </tr>\n",
       "    <tr>\n",
       "      <th>938</th>\n",
       "      <td>939</td>\n",
       "      <td>student</td>\n",
       "      <td>1997-11-23 04:50:36</td>\n",
       "      <td>939</td>\n",
       "    </tr>\n",
       "    <tr>\n",
       "      <th>939</th>\n",
       "      <td>940</td>\n",
       "      <td>administrator</td>\n",
       "      <td>1998-01-14 18:01:38</td>\n",
       "      <td>932</td>\n",
       "    </tr>\n",
       "    <tr>\n",
       "      <th>940</th>\n",
       "      <td>941</td>\n",
       "      <td>student</td>\n",
       "      <td>1997-09-23 21:01:35</td>\n",
       "      <td>943</td>\n",
       "    </tr>\n",
       "    <tr>\n",
       "      <th>941</th>\n",
       "      <td>942</td>\n",
       "      <td>librarian</td>\n",
       "      <td>1998-03-30 18:25:55</td>\n",
       "      <td>935</td>\n",
       "    </tr>\n",
       "    <tr>\n",
       "      <th>942</th>\n",
       "      <td>943</td>\n",
       "      <td>student</td>\n",
       "      <td>1997-09-28 01:25:39</td>\n",
       "      <td>938</td>\n",
       "    </tr>\n",
       "  </tbody>\n",
       "</table>\n",
       "<p>943 rows × 4 columns</p>\n",
       "</div>"
      ],
      "text/plain": [
       "      id     Occupation         Active Since  userIdx\n",
       "0      1     technician  1997-09-22 21:57:58      119\n",
       "1      2          other  1998-02-27 03:26:00      230\n",
       "2      3         writer  1998-03-07 02:15:39      270\n",
       "3      4     technician  1998-04-08 02:09:34      268\n",
       "4      5          other  1997-09-30 15:57:44      112\n",
       "..   ...            ...                  ...      ...\n",
       "938  939        student  1997-11-23 04:50:36      939\n",
       "939  940  administrator  1998-01-14 18:01:38      932\n",
       "940  941        student  1997-09-23 21:01:35      943\n",
       "941  942      librarian  1998-03-30 18:25:55      935\n",
       "942  943        student  1997-09-28 01:25:39      938\n",
       "\n",
       "[943 rows x 4 columns]"
      ]
     },
     "execution_count": 7,
     "metadata": {},
     "output_type": "execute_result"
    }
   ],
   "source": [
    "df_users['userIdx'] = df_users['id'].apply(lambda x: user2Idx[x])\n",
    "df_movies['movieIdx'] = df_movies['id'].apply(lambda x: movie2Idx[x])"
   ]
  },
  {
   "cell_type": "code",
   "execution_count": 8,
   "metadata": {},
   "outputs": [
    {
     "data": {
      "text/plain": [
       "{'cluster_name': 'docker-cluster',\n",
       " 'status': 'yellow',\n",
       " 'timed_out': False,\n",
       " 'number_of_nodes': 1,\n",
       " 'number_of_data_nodes': 1,\n",
       " 'discovered_master': True,\n",
       " 'discovered_cluster_manager': True,\n",
       " 'active_primary_shards': 13,\n",
       " 'active_shards': 13,\n",
       " 'relocating_shards': 0,\n",
       " 'initializing_shards': 0,\n",
       " 'unassigned_shards': 9,\n",
       " 'delayed_unassigned_shards': 0,\n",
       " 'number_of_pending_tasks': 0,\n",
       " 'number_of_in_flight_fetch': 0,\n",
       " 'task_max_waiting_in_queue_millis': 0,\n",
       " 'active_shards_percent_as_number': 59.09090909090909}"
      ]
     },
     "execution_count": 8,
     "metadata": {},
     "output_type": "execute_result"
    }
   ],
   "source": [
    "import sys\n",
    "import os\n",
    "notebook_dir = os.path.dirname(os.path.abspath('recommendation_system.ipynb'))\n",
    "project_root = os.path.abspath(os.path.join(notebook_dir, '..'))\n",
    "sys.path.append(project_root)\n",
    "\n",
    "#from config.config import client\n",
    "from src.services.database.models import Movie, User\n",
    "from src.services.database.vector_db_service import VectorDbService\n",
    "vdbs = VectorDbService()\n",
    "client = vdbs.client\n",
    "client.cluster.health()"
   ]
  },
  {
   "cell_type": "code",
   "execution_count": 8,
   "metadata": {},
   "outputs": [
    {
     "name": "stdout",
     "output_type": "stream",
     "text": [
      "Índice inicializado correctamente.\n"
     ]
    }
   ],
   "source": [
    "try:\n",
    "    #client.indices.delete('movie')\n",
    "    Movie.init(using=client)\n",
    "    print(\"Índice inicializado correctamente.\")\n",
    "except Exception as e:\n",
    "    print(f\"Error al inicializar el índice: {e}\")"
   ]
  },
  {
   "cell_type": "code",
   "execution_count": 14,
   "metadata": {},
   "outputs": [
    {
     "name": "stdout",
     "output_type": "stream",
     "text": [
      "Índice inicializado correctamente.\n"
     ]
    }
   ],
   "source": [
    "try:\n",
    "    #client.indices.delete('user')\n",
    "    User.init(using=client)\n",
    "    print(\"Índice inicializado correctamente.\")\n",
    "except Exception as e:\n",
    "    print(f\"Error al inicializar el índice: {e}\")"
   ]
  },
  {
   "cell_type": "code",
   "execution_count": 10,
   "metadata": {},
   "outputs": [],
   "source": [
    "for i, row in df_movies.iterrows():\n",
    "    try:\n",
    "\n",
    "        mv = Movie(\n",
    "            movie_id = row.id,\n",
    "            url = row['IMDB URL'],\n",
    "            name = row['Name'],\n",
    "            vector = list(movie_embeddings_matrix[row.movieIdx]),\n",
    "            created_at = datetime.now()\n",
    "        )\n",
    "        mv.save(using=client)\n",
    "        #Movie.search(using=client).count()\n",
    "        #mv.save(using=client)\n",
    "    except Exception as e:\n",
    "        print(f\"Error al guardar la película {row['Name']}: {e}\")"
   ]
  },
  {
   "cell_type": "code",
   "execution_count": 15,
   "metadata": {},
   "outputs": [],
   "source": [
    "for i, row in df_users.iterrows():\n",
    "    try:\n",
    "\n",
    "        uv = User(\n",
    "            user_id = row.id,\n",
    "            occupation = row['Occupation'],\n",
    "            created_at = datetime.now(),\n",
    "            active_since = row['Active Since'],\n",
    "            vector = list(user_embeddings_matrix[row.userIdx])\n",
    "        )\n",
    "        uv.save(using=client)\n",
    "    except Exception as e:\n",
    "        print(f\"Error al guardar el usuario {row.id}: {e}\")"
   ]
  },
  {
   "cell_type": "code",
   "execution_count": 11,
   "metadata": {},
   "outputs": [
    {
     "data": {
      "text/plain": [
       "1682"
      ]
     },
     "execution_count": 11,
     "metadata": {},
     "output_type": "execute_result"
    }
   ],
   "source": [
    "Movie.search(using=client).count()"
   ]
  },
  {
   "cell_type": "code",
   "execution_count": 16,
   "metadata": {},
   "outputs": [
    {
     "data": {
      "text/plain": [
       "943"
      ]
     },
     "execution_count": 16,
     "metadata": {},
     "output_type": "execute_result"
    }
   ],
   "source": [
    "User.search(using=client).count()"
   ]
  },
  {
   "cell_type": "code",
   "execution_count": 12,
   "metadata": {},
   "outputs": [
    {
     "name": "stdout",
     "output_type": "stream",
     "text": [
      "{'_index': 'movie', '_id': '346', '_score': 1.0, '_source': {'movie_id': 346, 'url': 'http://us.imdb.com/M/title-exact?imdb-title-119396', 'name': 'Jackie Brown (1997)', 'vector': [0.0675366222858429, 0.09568929672241211, 0.22328245639801025], 'created_at': '2024-08-28T18:39:01.838179'}}\n",
      "{'_index': 'movie', '_id': '987', '_score': 0.99915195, '_source': {'movie_id': 987, 'url': 'http://us.imdb.com/M/title-exact?Underworld%20(1997)', 'name': 'Underworld (1997)', 'vector': [0.000920130405575037, 0.0010935215977951884, 0.0028165383264422417], 'created_at': '2024-08-28T18:39:05.507450'}}\n",
      "{'_index': 'movie', '_id': '285', '_score': 0.9991291, '_source': {'movie_id': 285, 'url': 'http://us.imdb.com/M/title-exact?Secrets%20&%20Lies%20(1996)', 'name': 'Secrets & Lies (1996)', 'vector': [0.06075748801231384, 0.08659423142671585, 0.22390972077846527], 'created_at': '2024-08-28T18:39:01.557003'}}\n",
      "{'_index': 'movie', '_id': '1411', '_score': 0.99898773, '_source': {'movie_id': 1411, 'url': 'http://us.imdb.com/M/title-exact?Barbarella%20(1968)', 'name': 'Barbarella (1968)', 'vector': [0.03163045272231102, 0.04763099178671837, 0.1214885413646698], 'created_at': '2024-08-28T18:39:07.714216'}}\n",
      "{'_index': 'movie', '_id': '461', '_score': 0.99880326, '_source': {'movie_id': 461, 'url': 'http://us.imdb.com/M/title-exact?Smoke%20(1995)', 'name': 'Smoke (1995)', 'vector': [0.03221340849995613, 0.04224846884608269, 0.0909496545791626], 'created_at': '2024-08-28T18:39:02.524969'}}\n"
     ]
    }
   ],
   "source": [
    "movie_idx_to_search = 5\n",
    "\n",
    "df_movies[df_movies['movieIdx'] == movie_idx_to_search]\n",
    "# %%\n",
    "movie_embeddings_matrix[movie_idx_to_search]\n",
    "\n",
    "query = {\n",
    "    \"size\": 5,\n",
    "    \"query\": {\n",
    "        \"knn\": {\n",
    "        \"vector\": {\n",
    "            \"vector\": movie_embeddings_matrix[movie_idx_to_search],\n",
    "            \"k\" : 20\n",
    "        }\n",
    "        }\n",
    "    }\n",
    "}\n",
    "\n",
    "response = client.search(index='movie', body=query)\n",
    "\n",
    "for h in response['hits']['hits']:\n",
    "  print(h)"
   ]
  }
 ],
 "metadata": {
  "kernelspec": {
   "display_name": "tp_2",
   "language": "python",
   "name": "python3"
  },
  "language_info": {
   "codemirror_mode": {
    "name": "ipython",
    "version": 3
   },
   "file_extension": ".py",
   "mimetype": "text/x-python",
   "name": "python",
   "nbconvert_exporter": "python",
   "pygments_lexer": "ipython3",
   "version": "3.8.18"
  }
 },
 "nbformat": 4,
 "nbformat_minor": 2
}
