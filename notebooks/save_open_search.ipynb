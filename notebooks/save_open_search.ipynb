{
 "cells": [
  {
   "cell_type": "code",
   "execution_count": 12,
   "metadata": {},
   "outputs": [],
   "source": [
    "import numpy as np\n",
    "import pandas as pd\n",
    "from datetime import datetime"
   ]
  },
  {
   "cell_type": "code",
   "execution_count": 13,
   "metadata": {},
   "outputs": [],
   "source": [
    "movie_embeddings_matrix = np.load('../data/vector_db/movie_embeddings_matrix_1.npy')\n",
    "user_embeddings_matrix = np.load('../data/vector_db/user_embeddings_matrix_1.npy')\n",
    "user2Idx = np.load('../data/vector_db/user2Idx_1.npy', allow_pickle=True).item()\n",
    "movie2Idx = np.load('../data/vector_db/movie2Idx_1.npy', allow_pickle=True).item()"
   ]
  },
  {
   "cell_type": "code",
   "execution_count": 18,
   "metadata": {},
   "outputs": [
    {
     "data": {
      "text/plain": [
       "id                         1896\n",
       "user_id                     196\n",
       "movie_id                    655\n",
       "rating                        5\n",
       "Date        1997-12-04 16:09:53\n",
       "Name: 1896, dtype: object"
      ]
     },
     "execution_count": 18,
     "metadata": {},
     "output_type": "execute_result"
    }
   ],
   "source": [
    "df_users = pd.read_csv('../data/usuarios.csv')\n",
    "df_movies = pd.read_csv('../data/peliculas.csv')\n",
    "ratings = pd.read_csv('../data/scores.csv')\n",
    "df_movies.loc[df_movies['IMDB URL'].isna(), 'IMDB URL'] = ''\n",
    "\n",
    "user_movies = ratings[ratings['user_id'] == 196]\n",
    "user_movies = user_movies.loc[user_movies['rating'].idxmax()]\n",
    "user_movies"
   ]
  },
  {
   "cell_type": "code",
   "execution_count": 19,
   "metadata": {},
   "outputs": [],
   "source": [
    "df_users['userIdx'] = df_users['id'].apply(lambda x: user2Idx[x])\n",
    "df_movies['movieIdx'] = df_movies['id'].apply(lambda x: movie2Idx[x])"
   ]
  },
  {
   "cell_type": "code",
   "execution_count": 21,
   "metadata": {},
   "outputs": [
    {
     "data": {
      "text/plain": [
       "{'cluster_name': 'docker-cluster',\n",
       " 'status': 'yellow',\n",
       " 'timed_out': False,\n",
       " 'number_of_nodes': 1,\n",
       " 'number_of_data_nodes': 1,\n",
       " 'discovered_master': True,\n",
       " 'discovered_cluster_manager': True,\n",
       " 'active_primary_shards': 8,\n",
       " 'active_shards': 8,\n",
       " 'relocating_shards': 0,\n",
       " 'initializing_shards': 0,\n",
       " 'unassigned_shards': 4,\n",
       " 'delayed_unassigned_shards': 0,\n",
       " 'number_of_pending_tasks': 0,\n",
       " 'number_of_in_flight_fetch': 0,\n",
       " 'task_max_waiting_in_queue_millis': 0,\n",
       " 'active_shards_percent_as_number': 66.66666666666666}"
      ]
     },
     "execution_count": 21,
     "metadata": {},
     "output_type": "execute_result"
    }
   ],
   "source": [
    "import sys\n",
    "import os\n",
    "notebook_dir = os.path.dirname(os.path.abspath('recommendation_system.ipynb'))\n",
    "project_root = os.path.abspath(os.path.join(notebook_dir, '..'))\n",
    "sys.path.append(project_root)\n",
    "\n",
    "#from config.config import client\n",
    "from src.services.database.models import MovieV, UserV\n",
    "from src.services.database.vector_db_service import VectorDbService\n",
    "vdbs = VectorDbService()\n",
    "client = vdbs.client\n",
    "client.cluster.health()"
   ]
  },
  {
   "cell_type": "code",
   "execution_count": 23,
   "metadata": {},
   "outputs": [
    {
     "name": "stdout",
     "output_type": "stream",
     "text": [
      "Índice inicializado correctamente.\n"
     ]
    }
   ],
   "source": [
    "try:\n",
    "    #client.indices.delete('movie')\n",
    "    MovieV.init(using=client)\n",
    "    print(\"Índice inicializado correctamente.\")\n",
    "except Exception as e:\n",
    "    print(f\"Error al inicializar el índice: {e}\")"
   ]
  },
  {
   "cell_type": "code",
   "execution_count": 25,
   "metadata": {},
   "outputs": [
    {
     "name": "stdout",
     "output_type": "stream",
     "text": [
      "Índice inicializado correctamente.\n"
     ]
    }
   ],
   "source": [
    "try:\n",
    "    #client.indices.delete('user')\n",
    "    UserV.init(using=client)\n",
    "    print(\"Índice inicializado correctamente.\")\n",
    "except Exception as e:\n",
    "    print(f\"Error al inicializar el índice: {e}\")"
   ]
  },
  {
   "cell_type": "code",
   "execution_count": 26,
   "metadata": {},
   "outputs": [],
   "source": [
    "for i, row in df_movies.iterrows():\n",
    "    try:\n",
    "\n",
    "        mv = MovieV(\n",
    "            movie_id = row.id,\n",
    "            url = row['IMDB URL'],\n",
    "            name = row['Name'],\n",
    "            vector = list(movie_embeddings_matrix[row.movieIdx]),\n",
    "            created_at = datetime.now()\n",
    "        )\n",
    "        mv.save(using=client)\n",
    "        #Movie.search(using=client).count()\n",
    "        #mv.save(using=client)\n",
    "    except Exception as e:\n",
    "        print(f\"Error al guardar la película {row['Name']}: {e}\")"
   ]
  },
  {
   "cell_type": "code",
   "execution_count": 27,
   "metadata": {},
   "outputs": [],
   "source": [
    "for i, row in df_users.iterrows():\n",
    "    try:\n",
    "\n",
    "        uv = UserV(\n",
    "            user_id = row.id,\n",
    "            occupation = row['Occupation'],\n",
    "            created_at = datetime.now(),\n",
    "            active_since = row['Active Since'],\n",
    "            vector = list(user_embeddings_matrix[row.userIdx])\n",
    "        )\n",
    "        uv.save(using=client)\n",
    "    except Exception as e:\n",
    "        print(f\"Error al guardar el usuario {row.id}: {e}\")"
   ]
  },
  {
   "cell_type": "code",
   "execution_count": 28,
   "metadata": {},
   "outputs": [
    {
     "data": {
      "text/plain": [
       "1682"
      ]
     },
     "execution_count": 28,
     "metadata": {},
     "output_type": "execute_result"
    }
   ],
   "source": [
    "MovieV.search(using=client).count()"
   ]
  },
  {
   "cell_type": "code",
   "execution_count": 29,
   "metadata": {},
   "outputs": [
    {
     "data": {
      "text/plain": [
       "943"
      ]
     },
     "execution_count": 29,
     "metadata": {},
     "output_type": "execute_result"
    }
   ],
   "source": [
    "UserV.search(using=client).count()"
   ]
  },
  {
   "cell_type": "code",
   "execution_count": 30,
   "metadata": {},
   "outputs": [
    {
     "data": {
      "text/plain": [
       "array([ 0.04046524,  0.08258271, -0.01827831,  0.11976125,  0.01657145],\n",
       "      dtype=float32)"
      ]
     },
     "execution_count": 30,
     "metadata": {},
     "output_type": "execute_result"
    }
   ],
   "source": [
    "movie_idx_to_search = 5\n",
    "\n",
    "df_movies[df_movies['movieIdx'] == movie_idx_to_search]\n",
    "# %%\n",
    "movie_embeddings_matrix[movie_idx_to_search]"
   ]
  },
  {
   "cell_type": "code",
   "execution_count": 35,
   "metadata": {},
   "outputs": [
    {
     "data": {
      "text/plain": [
       "array([-0.01620449, -0.02153726,  0.13703047,  0.07455067, -0.20351009],\n",
       "      dtype=float32)"
      ]
     },
     "execution_count": 35,
     "metadata": {},
     "output_type": "execute_result"
    }
   ],
   "source": [
    "user_idx_to_search = 5\n",
    "\n",
    "df_users[df_users['userIdx'] == user_idx_to_search]\n",
    "# %%\n",
    "user_embeddings_matrix[user_idx_to_search]"
   ]
  },
  {
   "cell_type": "code",
   "execution_count": 31,
   "metadata": {},
   "outputs": [
    {
     "name": "stdout",
     "output_type": "stream",
     "text": [
      "<class 'numpy.ndarray'>\n",
      "{'_index': 'movie', '_id': '346', '_score': 1.0, '_source': {'movie_id': 346, 'url': 'http://us.imdb.com/M/title-exact?imdb-title-119396', 'name': 'Jackie Brown (1997)', 'vector': [0.04046523943543434, 0.08258271217346191, -0.01827831193804741, 0.11976125091314316, 0.016571447253227234], 'created_at': '2024-11-18T15:22:44.046736'}}\n",
      "{'_index': 'movie', '_id': '387', '_score': 0.989446, '_source': {'movie_id': 387, 'url': 'http://us.imdb.com/M/title-exact?Age%20of%20Innocence,%20The%20(1993)', 'name': 'Age of Innocence, The (1993)', 'vector': [0.012251359410583973, 0.02205602265894413, -0.004896262194961309, 0.024609360843896866, 0.0036130468361079693], 'created_at': '2024-11-18T15:22:44.260518'}}\n",
      "{'_index': 'movie', '_id': '644', '_score': 0.98052853, '_source': {'movie_id': 644, 'url': 'http://us.imdb.com/M/title-exact?Thin%20Blue%20Line,%20The%20(1988)', 'name': 'Thin Blue Line, The (1988)', 'vector': [0.04187830537557602, 0.08485984057188034, 0.00854739360511303, 0.12571220099925995, 0.0018578812014311552], 'created_at': '2024-11-18T15:22:45.544787'}}\n",
      "{'_index': 'movie', '_id': '1186', '_score': 0.98028195, '_source': {'movie_id': 1186, 'url': 'http://us.imdb.com/M/title-exact?Inkwell,%20The%20(1994)', 'name': 'Inkwell, The (1994)', 'vector': [0.023976942524313927, 0.028869442641735077, -0.0022858332376927137, 0.04801856726408005, -0.00021940442093182355], 'created_at': '2024-11-18T15:22:48.570322'}}\n",
      "{'_index': 'movie', '_id': '14', '_score': 0.97707707, '_source': {'movie_id': 14, 'url': 'http://us.imdb.com/M/title-exact?Postino,%20Il%20(1994)', 'name': 'Postino, Il (1994)', 'vector': [0.07290713489055634, 0.0914648175239563, -0.0049603963270783424, 0.12771913409233093, -0.00022518134210258722], 'created_at': '2024-11-18T15:22:41.719889'}}\n"
     ]
    }
   ],
   "source": [
    "movie_idx_to_search = 5\n",
    "\n",
    "df_movies[df_movies['movieIdx'] == movie_idx_to_search]\n",
    "# %%\n",
    "print(type(movie_embeddings_matrix[movie_idx_to_search]))\n",
    "\n",
    "query = {\n",
    "    \"size\": 5,\n",
    "    \"query\": {\n",
    "        \"knn\": {\n",
    "        \"vector\": {\n",
    "            \"vector\": movie_embeddings_matrix[movie_idx_to_search],\n",
    "            \"k\" : 20\n",
    "        }\n",
    "        }\n",
    "    }\n",
    "}\n",
    "\n",
    "response = client.search(index='movie', body=query)\n",
    "\n",
    "for h in response['hits']['hits']:\n",
    "  print(h)"
   ]
  }
 ],
 "metadata": {
  "kernelspec": {
   "display_name": "tp_2",
   "language": "python",
   "name": "python3"
  },
  "language_info": {
   "codemirror_mode": {
    "name": "ipython",
    "version": 3
   },
   "file_extension": ".py",
   "mimetype": "text/x-python",
   "name": "python",
   "nbconvert_exporter": "python",
   "pygments_lexer": "ipython3",
   "version": "3.8.20"
  }
 },
 "nbformat": 4,
 "nbformat_minor": 2
}
