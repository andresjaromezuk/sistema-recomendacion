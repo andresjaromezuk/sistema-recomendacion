{
 "cells": [
  {
   "cell_type": "code",
   "execution_count": 2,
   "metadata": {},
   "outputs": [],
   "source": [
    "import pandas as pd\n",
    "import mlflow\n",
    "\n",
    "mlflow.set_tracking_uri(\"http://127.0.0.1:5001\")"
   ]
  },
  {
   "cell_type": "code",
   "execution_count": 4,
   "metadata": {},
   "outputs": [
    {
     "name": "stderr",
     "output_type": "stream",
     "text": [
      "2024-11-28 08:37:25.734018: I tensorflow/core/platform/cpu_feature_guard.cc:193] This TensorFlow binary is optimized with oneAPI Deep Neural Network Library (oneDNN) to use the following CPU instructions in performance-critical operations:  SSE4.1 SSE4.2\n",
      "To enable them in other operations, rebuild TensorFlow with the appropriate compiler flags.\n",
      "2024-11-28 08:37:28.162212: I tensorflow/core/platform/cpu_feature_guard.cc:193] This TensorFlow binary is optimized with oneAPI Deep Neural Network Library (oneDNN) to use the following CPU instructions in performance-critical operations:  SSE4.1 SSE4.2\n",
      "To enable them in other operations, rebuild TensorFlow with the appropriate compiler flags.\n"
     ]
    }
   ],
   "source": [
    "from tensorflow.compat.v1 import ConfigProto\n",
    "from tensorflow.compat.v1 import InteractiveSession\n",
    "config = ConfigProto()\n",
    "config.gpu_options.allow_growth = True\n",
    "session = InteractiveSession(config=config)"
   ]
  },
  {
   "cell_type": "code",
   "execution_count": 5,
   "metadata": {},
   "outputs": [
    {
     "data": {
      "text/html": [
       "<div>\n",
       "<style scoped>\n",
       "    .dataframe tbody tr th:only-of-type {\n",
       "        vertical-align: middle;\n",
       "    }\n",
       "\n",
       "    .dataframe tbody tr th {\n",
       "        vertical-align: top;\n",
       "    }\n",
       "\n",
       "    .dataframe thead th {\n",
       "        text-align: right;\n",
       "    }\n",
       "</style>\n",
       "<table border=\"1\" class=\"dataframe\">\n",
       "  <thead>\n",
       "    <tr style=\"text-align: right;\">\n",
       "      <th></th>\n",
       "      <th>userId</th>\n",
       "      <th>movieId</th>\n",
       "      <th>rating</th>\n",
       "      <th>timestamp</th>\n",
       "    </tr>\n",
       "  </thead>\n",
       "  <tbody>\n",
       "    <tr>\n",
       "      <th>0</th>\n",
       "      <td>1</td>\n",
       "      <td>1</td>\n",
       "      <td>4.0</td>\n",
       "      <td>944249077</td>\n",
       "    </tr>\n",
       "    <tr>\n",
       "      <th>1</th>\n",
       "      <td>1</td>\n",
       "      <td>2</td>\n",
       "      <td>1.0</td>\n",
       "      <td>944250228</td>\n",
       "    </tr>\n",
       "    <tr>\n",
       "      <th>2</th>\n",
       "      <td>1</td>\n",
       "      <td>3</td>\n",
       "      <td>2.0</td>\n",
       "      <td>943230976</td>\n",
       "    </tr>\n",
       "    <tr>\n",
       "      <th>3</th>\n",
       "      <td>1</td>\n",
       "      <td>4</td>\n",
       "      <td>5.0</td>\n",
       "      <td>944249077</td>\n",
       "    </tr>\n",
       "    <tr>\n",
       "      <th>4</th>\n",
       "      <td>1</td>\n",
       "      <td>5</td>\n",
       "      <td>5.0</td>\n",
       "      <td>943228858</td>\n",
       "    </tr>\n",
       "  </tbody>\n",
       "</table>\n",
       "</div>"
      ],
      "text/plain": [
       "   userId  movieId  rating  timestamp\n",
       "0       1        1     4.0  944249077\n",
       "1       1        2     1.0  944250228\n",
       "2       1        3     2.0  943230976\n",
       "3       1        4     5.0  944249077\n",
       "4       1        5     5.0  943228858"
      ]
     },
     "execution_count": 5,
     "metadata": {},
     "output_type": "execute_result"
    }
   ],
   "source": [
    "ratings = pd.read_csv('../data/ml-32m/ratings.csv')\n",
    "df_users = pd.read_csv('../data/ml-32m/users.csv')\n",
    "df_movies = pd.read_csv('../data/ml-32m/movies.csv')\n",
    "\n",
    "#df_movies.loc[df_movies['IMDB URL'].isna(), 'IMDB URL'] = ''\n",
    "\n",
    "u_unique = ratings.userId.unique()\n",
    "user2Idx = {o:i+1 for i,o in enumerate(u_unique)}\n",
    "\n",
    "m_unique = ratings.movieId.unique()\n",
    "movie2Idx = {o:i+1 for i,o in enumerate(m_unique)}\n",
    "\n",
    "ratings.userId = ratings.userId.apply(lambda x: user2Idx[x])\n",
    "\n",
    "ratings.movieId = ratings.movieId.apply(lambda x: movie2Idx[x])\n",
    "\n",
    "ratings.head(5)"
   ]
  },
  {
   "cell_type": "code",
   "execution_count": 6,
   "metadata": {},
   "outputs": [],
   "source": [
    "from sklearn.model_selection import train_test_split\n",
    "ratings_train, ratings_val = train_test_split(ratings, test_size=0.2)"
   ]
  },
  {
   "cell_type": "code",
   "execution_count": 7,
   "metadata": {},
   "outputs": [
    {
     "name": "stdout",
     "output_type": "stream",
     "text": [
      "200948 84432 200948 80210\n"
     ]
    }
   ],
   "source": [
    "n_users = int(ratings.userId.nunique())\n",
    "n_movies = int(ratings.movieId.nunique())\n",
    "n_users_train = int(ratings_train.userId.nunique())\n",
    "n_movies_train = int(ratings_train.movieId.nunique())\n",
    "print(n_users, n_movies, n_users_train, n_movies_train)"
   ]
  },
  {
   "cell_type": "code",
   "execution_count": 8,
   "metadata": {},
   "outputs": [
    {
     "data": {
      "text/plain": [
       "(5.0, 0.5, 3.5404047232043014)"
      ]
     },
     "execution_count": 8,
     "metadata": {},
     "output_type": "execute_result"
    }
   ],
   "source": [
    "max_rating = ratings_train['rating'].max()\n",
    "min_rating = ratings_train['rating'].min()\n",
    "av_rating = ratings_train['rating'].mean()\n",
    "max_rating, min_rating, av_rating"
   ]
  },
  {
   "cell_type": "code",
   "execution_count": 11,
   "metadata": {},
   "outputs": [
    {
     "data": {
      "text/plain": [
       "<Experiment: artifact_location='mlflow-artifacts:/496846399806627028', creation_time=1731957405074, experiment_id='496846399806627028', last_update_time=1731957405074, lifecycle_stage='active', name='Neural Network 32 M', tags={}>"
      ]
     },
     "execution_count": 11,
     "metadata": {},
     "output_type": "execute_result"
    }
   ],
   "source": [
    "#Seteo del experimento\n",
    "experiment_name = \"Neural Network 32 M\"\n",
    "mlflow.set_experiment(experiment_name)"
   ]
  },
  {
   "cell_type": "code",
   "execution_count": 9,
   "metadata": {},
   "outputs": [],
   "source": [
    "from keras.layers import Input, Embedding, Flatten, Dropout, Concatenate, Dense, Activation, Lambda\n",
    "from keras import Model\n",
    "from keras.regularizers import l2\n",
    "from keras.optimizers import Adam"
   ]
  },
  {
   "cell_type": "code",
   "execution_count": 12,
   "metadata": {},
   "outputs": [
    {
     "data": {
      "text/plain": [
       "<ActiveRun: >"
      ]
     },
     "execution_count": 12,
     "metadata": {},
     "output_type": "execute_result"
    }
   ],
   "source": [
    "mlflow.start_run(run_name=\"Latent factor 5 y 5 + 20 epochs + lr 0.0009\")"
   ]
  },
  {
   "cell_type": "code",
   "execution_count": 13,
   "metadata": {},
   "outputs": [
    {
     "data": {
      "text/plain": [
       "5"
      ]
     },
     "execution_count": 13,
     "metadata": {},
     "output_type": "execute_result"
    }
   ],
   "source": [
    "n_latent_factors_user = 5\n",
    "mlflow.log_param(\"n_latent_factors_user\", n_latent_factors_user)\n",
    "n_latent_factors_movie = 5\n",
    "mlflow.log_param(\"n_latent_factors_movie\", n_latent_factors_movie)"
   ]
  },
  {
   "cell_type": "code",
   "execution_count": 14,
   "metadata": {},
   "outputs": [
    {
     "name": "stdout",
     "output_type": "stream",
     "text": [
      "Model: \"model\"\n",
      "__________________________________________________________________________________________________\n",
      " Layer (type)                   Output Shape         Param #     Connected to                     \n",
      "==================================================================================================\n",
      " Item (InputLayer)              [(None, 1)]          0           []                               \n",
      "                                                                                                  \n",
      " User (InputLayer)              [(None, 1)]          0           []                               \n",
      "                                                                                                  \n",
      " Movie-Embedding (Embedding)    (None, 1, 5)         422165      ['Item[0][0]']                   \n",
      "                                                                                                  \n",
      " User-Embedding (Embedding)     (None, 1, 5)         1004745     ['User[0][0]']                   \n",
      "                                                                                                  \n",
      " FlattenMovies (Flatten)        (None, 5)            0           ['Movie-Embedding[0][0]']        \n",
      "                                                                                                  \n",
      " FlattenUsers (Flatten)         (None, 5)            0           ['User-Embedding[0][0]']         \n",
      "                                                                                                  \n",
      " Concat (Concatenate)           (None, 10)           0           ['FlattenMovies[0][0]',          \n",
      "                                                                  'FlattenUsers[0][0]']           \n",
      "                                                                                                  \n",
      " FullyConnected-1 (Dense)       (None, 50)           550         ['Concat[0][0]']                 \n",
      "                                                                                                  \n",
      " Activation (Dense)             (None, 1)            51          ['FullyConnected-1[0][0]']       \n",
      "                                                                                                  \n",
      " lambda (Lambda)                (None, 1)            0           ['Activation[0][0]']             \n",
      "                                                                                                  \n",
      "==================================================================================================\n",
      "Total params: 1,427,511\n",
      "Trainable params: 1,427,511\n",
      "Non-trainable params: 0\n",
      "__________________________________________________________________________________________________\n"
     ]
    }
   ],
   "source": [
    "movie_embedding_regularizer = 0.001\n",
    "mlflow.log_param(\"movie_embedding_regularizer_l2\", movie_embedding_regularizer)\n",
    "hidden_units = 50\n",
    "#dropout_1 = 0.2\n",
    "#dropout_2 = 0.5\n",
    "mlflow.log_param(\"hidden_units\", hidden_units)\n",
    "\n",
    "movie_input = Input(shape=[1],name='Item')\n",
    "movie_embedding = Embedding(n_movies + 1, n_latent_factors_movie, name='Movie-Embedding', embeddings_regularizer = l2(movie_embedding_regularizer))(movie_input)\n",
    "movie_vec = Flatten(name='FlattenMovies')(movie_embedding)\n",
    "#movie_vec = Dropout(dropout_1)(movie_vec)\n",
    "\n",
    "user_input = Input(shape=[1],name='User')\n",
    "user_vec = Flatten(name='FlattenUsers')(Embedding(n_users + 1, \n",
    "n_latent_factors_user,name='User-Embedding')(user_input))\n",
    "#user_vec = Dropout(dropout_1)(user_vec)\n",
    "\n",
    "concat = Concatenate(name='Concat')([movie_vec, user_vec])\n",
    "#concat = Dropout(dropout_1)(concat)\n",
    "\n",
    "x = Dense(hidden_units,name='FullyConnected-1', activation='relu')(concat)\n",
    "#x = Dropout(dropout_2)(x)\n",
    "# x = Dense(50,name='FullyConnected-1', activation='relu')(concat)\n",
    "# x = Dropout(0.5)(x)\n",
    "\n",
    "\n",
    "## Se pueden sacar las siguientes dos lineas para no forzar a sigmoidea\n",
    "x = Dense(1, activation='sigmoid',name='Activation')(x)\n",
    "x = Lambda(lambda z: (max_rating - min_rating) * z + min_rating)(x)\n",
    "##\n",
    "\n",
    "model = Model([user_input, movie_input], x)\n",
    "model.summary()"
   ]
  },
  {
   "cell_type": "code",
   "execution_count": 16,
   "metadata": {},
   "outputs": [],
   "source": [
    "import keras.backend as K \n",
    "def root_mean_squared_error(y_true, y_pred):\n",
    "    return K.sqrt(K.mean(K.square(y_pred - y_true)))"
   ]
  },
  {
   "cell_type": "code",
   "execution_count": 17,
   "metadata": {},
   "outputs": [
    {
     "data": {
      "text/plain": [
       "0.0009"
      ]
     },
     "execution_count": 17,
     "metadata": {},
     "output_type": "execute_result"
    }
   ],
   "source": [
    "lr = 0.0009\n",
    "model.compile(Adam(learning_rate=lr), 'mean_squared_error', metrics=[root_mean_squared_error])\n",
    "mlflow.log_param(\"lr\", lr)"
   ]
  },
  {
   "cell_type": "code",
   "execution_count": 18,
   "metadata": {},
   "outputs": [],
   "source": [
    "from keras.callbacks import ModelCheckpoint, ReduceLROnPlateau, EarlyStopping\n",
    "checkpointer = ModelCheckpoint(filepath='weights1.hdf5', verbose=1, save_best_only=True, monitor='val_root_mean_squared_error')"
   ]
  },
  {
   "cell_type": "code",
   "execution_count": 6,
   "metadata": {},
   "outputs": [],
   "source": [
    "patience = 5\n",
    "early_stopping = EarlyStopping(monitor='val_loss', patience=patience, restore_best_weights=True)\n",
    "#mlflow.log_param(\"early_stopping_patience\", patience)"
   ]
  },
  {
   "cell_type": "code",
   "execution_count": 79,
   "metadata": {},
   "outputs": [
    {
     "data": {
      "text/plain": [
       "<keras.callbacks.ReduceLROnPlateau at 0x17155e0d0>"
      ]
     },
     "execution_count": 79,
     "metadata": {},
     "output_type": "execute_result"
    }
   ],
   "source": [
    "reduce_lr = ReduceLROnPlateau(\n",
    "    monitor='val_loss',      # Métrica a monitorear (puede ser 'val_loss' o 'loss')\n",
    "    factor=0.2,              # Factor de reducción del learning rate (e.g., reduce a la mitad)\n",
    "    patience=2,              # Número de épocas sin mejora antes de reducir\n",
    "    min_lr=1e-6,             # Learning rate mínimo permitido\n",
    "    verbose=1                # Mostrar logs cuando se reduzca el LR\n",
    ")\n",
    "mlflow.log_param(\"reduce_lr\", reduce_lr)"
   ]
  },
  {
   "cell_type": "code",
   "execution_count": 19,
   "metadata": {},
   "outputs": [
    {
     "name": "stdout",
     "output_type": "stream",
     "text": [
      "Epoch 1/20\n",
      "79997/80001 [============================>.] - ETA: 0s - loss: 0.7763 - root_mean_squared_error: 0.8666\n",
      "Epoch 1: val_root_mean_squared_error improved from inf to 0.84722, saving model to weights1.hdf5\n",
      "80001/80001 [==============================] - 312s 4ms/step - loss: 0.7763 - root_mean_squared_error: 0.8666 - val_loss: 0.7442 - val_root_mean_squared_error: 0.8472\n",
      "Epoch 2/20\n",
      "79997/80001 [============================>.] - ETA: 0s - loss: 0.7312 - root_mean_squared_error: 0.8385\n",
      "Epoch 2: val_root_mean_squared_error improved from 0.84722 to 0.83933, saving model to weights1.hdf5\n",
      "80001/80001 [==============================] - 300s 4ms/step - loss: 0.7312 - root_mean_squared_error: 0.8385 - val_loss: 0.7332 - val_root_mean_squared_error: 0.8393\n",
      "Epoch 3/20\n",
      "80001/80001 [==============================] - ETA: 0s - loss: 0.7201 - root_mean_squared_error: 0.8310\n",
      "Epoch 3: val_root_mean_squared_error improved from 0.83933 to 0.83638, saving model to weights1.hdf5\n",
      "80001/80001 [==============================] - 297s 4ms/step - loss: 0.7201 - root_mean_squared_error: 0.8310 - val_loss: 0.7296 - val_root_mean_squared_error: 0.8364\n",
      "Epoch 4/20\n",
      "79994/80001 [============================>.] - ETA: 0s - loss: 0.7145 - root_mean_squared_error: 0.8268\n",
      "Epoch 4: val_root_mean_squared_error improved from 0.83638 to 0.83493, saving model to weights1.hdf5\n",
      "80001/80001 [==============================] - 287s 4ms/step - loss: 0.7145 - root_mean_squared_error: 0.8268 - val_loss: 0.7283 - val_root_mean_squared_error: 0.8349\n",
      "Epoch 5/20\n",
      "79991/80001 [============================>.] - ETA: 0s - loss: 0.7107 - root_mean_squared_error: 0.8238\n",
      "Epoch 5: val_root_mean_squared_error improved from 0.83493 to 0.83367, saving model to weights1.hdf5\n",
      "80001/80001 [==============================] - 302s 4ms/step - loss: 0.7107 - root_mean_squared_error: 0.8238 - val_loss: 0.7277 - val_root_mean_squared_error: 0.8337\n",
      "Epoch 6/20\n",
      "79992/80001 [============================>.] - ETA: 0s - loss: 0.7076 - root_mean_squared_error: 0.8211\n",
      "Epoch 6: val_root_mean_squared_error improved from 0.83367 to 0.83200, saving model to weights1.hdf5\n",
      "80001/80001 [==============================] - 293s 4ms/step - loss: 0.7076 - root_mean_squared_error: 0.8211 - val_loss: 0.7263 - val_root_mean_squared_error: 0.8320\n",
      "Epoch 7/20\n",
      "79991/80001 [============================>.] - ETA: 0s - loss: 0.7048 - root_mean_squared_error: 0.8187\n",
      "Epoch 7: val_root_mean_squared_error improved from 0.83200 to 0.83146, saving model to weights1.hdf5\n",
      "80001/80001 [==============================] - 295s 4ms/step - loss: 0.7048 - root_mean_squared_error: 0.8187 - val_loss: 0.7258 - val_root_mean_squared_error: 0.8315\n",
      "Epoch 8/20\n",
      "79994/80001 [============================>.] - ETA: 0s - loss: 0.7023 - root_mean_squared_error: 0.8166\n",
      "Epoch 8: val_root_mean_squared_error improved from 0.83146 to 0.82908, saving model to weights1.hdf5\n",
      "80001/80001 [==============================] - 301s 4ms/step - loss: 0.7023 - root_mean_squared_error: 0.8166 - val_loss: 0.7231 - val_root_mean_squared_error: 0.8291\n",
      "Epoch 9/20\n",
      "79993/80001 [============================>.] - ETA: 0s - loss: 0.7002 - root_mean_squared_error: 0.8148\n",
      "Epoch 9: val_root_mean_squared_error improved from 0.82908 to 0.82859, saving model to weights1.hdf5\n",
      "80001/80001 [==============================] - 296s 4ms/step - loss: 0.7002 - root_mean_squared_error: 0.8148 - val_loss: 0.7227 - val_root_mean_squared_error: 0.8286\n",
      "Epoch 10/20\n",
      "79999/80001 [============================>.] - ETA: 0s - loss: 0.6982 - root_mean_squared_error: 0.8133\n",
      "Epoch 10: val_root_mean_squared_error improved from 0.82859 to 0.82782, saving model to weights1.hdf5\n",
      "80001/80001 [==============================] - 320s 4ms/step - loss: 0.6982 - root_mean_squared_error: 0.8133 - val_loss: 0.7219 - val_root_mean_squared_error: 0.8278\n",
      "Epoch 11/20\n",
      "80000/80001 [============================>.] - ETA: 0s - loss: 0.6966 - root_mean_squared_error: 0.8120\n",
      "Epoch 11: val_root_mean_squared_error improved from 0.82782 to 0.82693, saving model to weights1.hdf5\n",
      "80001/80001 [==============================] - 315s 4ms/step - loss: 0.6966 - root_mean_squared_error: 0.8120 - val_loss: 0.7211 - val_root_mean_squared_error: 0.8269\n",
      "Epoch 12/20\n",
      "79996/80001 [============================>.] - ETA: 0s - loss: 0.6953 - root_mean_squared_error: 0.8110\n",
      "Epoch 12: val_root_mean_squared_error improved from 0.82693 to 0.82643, saving model to weights1.hdf5\n",
      "80001/80001 [==============================] - 310s 4ms/step - loss: 0.6953 - root_mean_squared_error: 0.8110 - val_loss: 0.7205 - val_root_mean_squared_error: 0.8264\n",
      "Epoch 13/20\n",
      "79999/80001 [============================>.] - ETA: 0s - loss: 0.6940 - root_mean_squared_error: 0.8100\n",
      "Epoch 13: val_root_mean_squared_error improved from 0.82643 to 0.82549, saving model to weights1.hdf5\n",
      "80001/80001 [==============================] - 324s 4ms/step - loss: 0.6940 - root_mean_squared_error: 0.8100 - val_loss: 0.7193 - val_root_mean_squared_error: 0.8255\n",
      "Epoch 14/20\n",
      "79993/80001 [============================>.] - ETA: 0s - loss: 0.6931 - root_mean_squared_error: 0.8093\n",
      "Epoch 14: val_root_mean_squared_error improved from 0.82549 to 0.82529, saving model to weights1.hdf5\n",
      "80001/80001 [==============================] - 302s 4ms/step - loss: 0.6931 - root_mean_squared_error: 0.8093 - val_loss: 0.7194 - val_root_mean_squared_error: 0.8253\n",
      "Epoch 15/20\n",
      "80000/80001 [============================>.] - ETA: 0s - loss: 0.6921 - root_mean_squared_error: 0.8085\n",
      "Epoch 15: val_root_mean_squared_error improved from 0.82529 to 0.82453, saving model to weights1.hdf5\n",
      "80001/80001 [==============================] - 295s 4ms/step - loss: 0.6921 - root_mean_squared_error: 0.8085 - val_loss: 0.7182 - val_root_mean_squared_error: 0.8245\n",
      "Epoch 16/20\n",
      "79995/80001 [============================>.] - ETA: 0s - loss: 0.6913 - root_mean_squared_error: 0.8080\n",
      "Epoch 16: val_root_mean_squared_error did not improve from 0.82453\n",
      "80001/80001 [==============================] - 313s 4ms/step - loss: 0.6913 - root_mean_squared_error: 0.8080 - val_loss: 0.7193 - val_root_mean_squared_error: 0.8253\n",
      "Epoch 17/20\n",
      "79991/80001 [============================>.] - ETA: 0s - loss: 0.6905 - root_mean_squared_error: 0.8074\n",
      "Epoch 17: val_root_mean_squared_error did not improve from 0.82453\n",
      "80001/80001 [==============================] - 301s 4ms/step - loss: 0.6905 - root_mean_squared_error: 0.8074 - val_loss: 0.7192 - val_root_mean_squared_error: 0.8251\n",
      "Epoch 18/20\n",
      "79996/80001 [============================>.] - ETA: 0s - loss: 0.6900 - root_mean_squared_error: 0.8071\n",
      "Epoch 18: val_root_mean_squared_error did not improve from 0.82453\n",
      "80001/80001 [==============================] - 319s 4ms/step - loss: 0.6900 - root_mean_squared_error: 0.8071 - val_loss: 0.7186 - val_root_mean_squared_error: 0.8247\n",
      "Epoch 19/20\n",
      "79991/80001 [============================>.] - ETA: 0s - loss: 0.6894 - root_mean_squared_error: 0.8067\n",
      "Epoch 19: val_root_mean_squared_error improved from 0.82453 to 0.82418, saving model to weights1.hdf5\n",
      "80001/80001 [==============================] - 343s 4ms/step - loss: 0.6894 - root_mean_squared_error: 0.8067 - val_loss: 0.7183 - val_root_mean_squared_error: 0.8242\n",
      "Epoch 20/20\n",
      "79996/80001 [============================>.] - ETA: 0s - loss: 0.6889 - root_mean_squared_error: 0.8063\n",
      "Epoch 20: val_root_mean_squared_error did not improve from 0.82418\n",
      "80001/80001 [==============================] - 352s 4ms/step - loss: 0.6889 - root_mean_squared_error: 0.8063 - val_loss: 0.7185 - val_root_mean_squared_error: 0.8244\n"
     ]
    }
   ],
   "source": [
    "batch_size = 320\n",
    "epochs = 20\n",
    "mlflow.log_param(\"batch_size\", batch_size)\n",
    "mlflow.log_param(\"epochs\", epochs)\n",
    "\n",
    "history = model.fit([ratings_train.userId, ratings_train.movieId], \n",
    "                    ratings_train.rating, \n",
    "                    validation_data=([ratings_val.userId, ratings_val.movieId], ratings_val.rating), \n",
    "                    batch_size = batch_size,\n",
    "                    callbacks = [checkpointer],\n",
    "                    epochs=epochs, verbose=1)"
   ]
  },
  {
   "cell_type": "code",
   "execution_count": 20,
   "metadata": {},
   "outputs": [
    {
     "data": {
      "image/png": "[encoded data removed]",
      "text/plain": [
       "<Figure size 640x480 with 1 Axes>"
      ]
     },
     "metadata": {},
     "output_type": "display_data"
    },
    {
     "data": {
      "text/plain": [
       "[<matplotlib.lines.Line2D at 0x18d0246a0>]"
      ]
     },
     "execution_count": 20,
     "metadata": {},
     "output_type": "execute_result"
    },
    {
     "data": {
      "image/png": "[encoded data removed]",
      "text/plain": [
       "<Figure size 640x480 with 1 Axes>"
      ]
     },
     "metadata": {},
     "output_type": "display_data"
    }
   ],
   "source": [
    "from matplotlib import pyplot as plt\n",
    "\n",
    "plt.plot(history.history['val_loss'])\n",
    "\n",
    "plt.show()\n",
    "plt.plot(history.history['loss'])\n"
   ]
  },
  {
   "cell_type": "code",
   "execution_count": 68,
   "metadata": {},
   "outputs": [],
   "source": [
    "for key, value in history.history.items():\n",
    "  mlflow.log_metric(key, value[-1]) "
   ]
  },
  {
   "cell_type": "code",
   "execution_count": 55,
   "metadata": {},
   "outputs": [
    {
     "name": "stdout",
     "output_type": "stream",
     "text": [
      "200002/200002 [==============================] - 129s 645us/step - loss: 0.7310 - root_mean_squared_error: 0.8233\n"
     ]
    },
    {
     "data": {
      "text/plain": [
       "[0.7309663891792297, 0.8233355283737183]"
      ]
     },
     "execution_count": 55,
     "metadata": {},
     "output_type": "execute_result"
    }
   ],
   "source": [
    "model.evaluate([ratings_val.userId, ratings_val.movieId], ratings_val.rating)"
   ]
  },
  {
   "cell_type": "code",
   "execution_count": 21,
   "metadata": {},
   "outputs": [
    {
     "name": "stdout",
     "output_type": "stream",
     "text": [
      "200002/200002 [==============================] - 118s 591us/step - loss: 0.7183 - root_mean_squared_error: 0.8143\n"
     ]
    }
   ],
   "source": [
    "model.load_weights('weights1.hdf5')\n",
    "mse, rmse = model.evaluate([ratings_val.userId, ratings_val.movieId], ratings_val.rating)\n",
    "mlflow.log_metric(\"val_mse\", mse) \n",
    "mlflow.log_metric(\"val_rmse\", rmse) "
   ]
  },
  {
   "cell_type": "code",
   "execution_count": 22,
   "metadata": {},
   "outputs": [
    {
     "data": {
      "text/plain": [
       "('Movie-Embedding', 'User-Embedding')"
      ]
     },
     "execution_count": 22,
     "metadata": {},
     "output_type": "execute_result"
    }
   ],
   "source": [
    "movie_embeddings_layer = model.layers[2]\n",
    "user_embeddings_layer = model.layers[3]\n",
    "\n",
    "movie_embeddings_layer.name, user_embeddings_layer.name"
   ]
  },
  {
   "cell_type": "code",
   "execution_count": 23,
   "metadata": {},
   "outputs": [
    {
     "name": "stderr",
     "output_type": "stream",
     "text": [
      "2024/11/28 11:07:56 WARNING mlflow.tensorflow: You are saving a TensorFlow Core model or Keras model without a signature. Inference with mlflow.pyfunc.spark_udf() will not work unless the model's pyfunc representation accepts pandas DataFrames as inference inputs.\n",
      "WARNING:absl:Function `_wrapped_model` contains input name(s) User, Item with unsupported characters which will be renamed to user, item in the SavedModel.\n"
     ]
    },
    {
     "name": "stdout",
     "output_type": "stream",
     "text": [
      "INFO:tensorflow:Assets written to: /var/folders/7f/19f36bv57_72qpq3mfj1x6240000gn/T/tmpbp7sy3_b/model/data/model/assets\n"
     ]
    },
    {
     "name": "stderr",
     "output_type": "stream",
     "text": [
      "INFO:tensorflow:Assets written to: /var/folders/7f/19f36bv57_72qpq3mfj1x6240000gn/T/tmpbp7sy3_b/model/data/model/assets\n",
      "2024/11/28 11:08:04 WARNING mlflow.utils.environment: Encountered an unexpected error while inferring pip requirements (model URI: /var/folders/7f/19f36bv57_72qpq3mfj1x6240000gn/T/tmpbp7sy3_b/model, flavor: tensorflow). Fall back to return ['tensorflow==2.11.0']. Set logging level to DEBUG to see the full traceback. \n",
      "2024/11/28 11:08:04 WARNING mlflow.models.model: Model logged without a signature and input example. Please set `input_example` parameter when logging the model to auto infer the model signature.\n"
     ]
    },
    {
     "data": {
      "text/plain": [
       "<mlflow.models.model.ModelInfo at 0x18d146d90>"
      ]
     },
     "execution_count": 23,
     "metadata": {},
     "output_type": "execute_result"
    }
   ],
   "source": [
    "mlflow.keras.log_model(model, \"best_model\")"
   ]
  },
  {
   "cell_type": "code",
   "execution_count": 24,
   "metadata": {},
   "outputs": [
    {
     "name": "stderr",
     "output_type": "stream",
     "text": [
      "2024/11/28 11:08:06 INFO mlflow.tracking._tracking_service.client: 🏃 View run Latent factor 5 y 5 + 20 epochs + lr 0.0009 at: http://127.0.0.1:5001/#/experiments/496846399806627028/runs/b71f39b1935a401c9a207a2946cc4739.\n",
      "2024/11/28 11:08:06 INFO mlflow.tracking._tracking_service.client: 🧪 View experiment at: http://127.0.0.1:5001/#/experiments/496846399806627028.\n"
     ]
    }
   ],
   "source": [
    "mlflow.end_run()"
   ]
  },
  {
   "cell_type": "markdown",
   "metadata": {},
   "source": [
    "#### Hay una diferencia de 1 entre n_movies, n_users y  el shape de las matrices de embeddigs"
   ]
  },
  {
   "cell_type": "code",
   "execution_count": 25,
   "metadata": {},
   "outputs": [
    {
     "data": {
      "text/plain": [
       "((84433, 5), (200949, 5), 84432, 200948)"
      ]
     },
     "execution_count": 25,
     "metadata": {},
     "output_type": "execute_result"
    }
   ],
   "source": [
    "movie_embeddings_matrix = movie_embeddings_layer.get_weights()[0]\n",
    "user_embeddings_matrix = user_embeddings_layer.get_weights()[0]\n",
    "\n",
    "movie_embeddings_matrix.shape, user_embeddings_matrix.shape, n_movies, n_users"
   ]
  },
  {
   "cell_type": "code",
   "execution_count": 26,
   "metadata": {},
   "outputs": [],
   "source": [
    "import numpy as np\n",
    "\n",
    "np.save('../data/vector_db/movie_embeddings_matrix_1.npy', movie_embeddings_matrix)\n",
    "np.save('../data/vector_db/user_embeddings_matrix_1.npy', user_embeddings_matrix)\n",
    "np.save('../data/vector_db/user2Idx_1.npy', user2Idx)\n",
    "np.save('../data/vector_db/movie2Idx_1.npy', movie2Idx)"
   ]
  }
 ],
 "metadata": {
  "kernelspec": {
   "display_name": "tp_2",
   "language": "python",
   "name": "python3"
  },
  "language_info": {
   "codemirror_mode": {
    "name": "ipython",
    "version": 3
   },
   "file_extension": ".py",
   "mimetype": "text/x-python",
   "name": "python",
   "nbconvert_exporter": "python",
   "pygments_lexer": "ipython3",
   "version": "3.8.20"
  }
 },
 "nbformat": 4,
 "nbformat_minor": 2
}
